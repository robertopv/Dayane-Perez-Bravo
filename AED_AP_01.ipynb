{
  "nbformat": 4,
  "nbformat_minor": 0,
  "metadata": {
    "colab": {
      "name": "AED_AP_01.ipynb",
      "provenance": [],
      "authorship_tag": "ABX9TyN9/jPw/x9fpPy0O20UOPgI",
      "include_colab_link": true
    },
    "kernelspec": {
      "name": "python3",
      "display_name": "Python 3"
    }
  },
  "cells": [
    {
      "cell_type": "markdown",
      "metadata": {
        "id": "view-in-github",
        "colab_type": "text"
      },
      "source": [
        "<a href=\"https://colab.research.google.com/github/dayanebravo/AED/blob/main/AED_AP_01.ipynb\" target=\"_parent\"><img src=\"https://colab.research.google.com/assets/colab-badge.svg\" alt=\"Open In Colab\"/></a>"
      ]
    },
    {
      "cell_type": "markdown",
      "metadata": {
        "id": "nzDLATrpIcsZ"
      },
      "source": [
        "# **Análise Exploratória de Dados - AED** - **Aula Prática 01**"
      ]
    },
    {
      "cell_type": "markdown",
      "metadata": {
        "id": "JlbKs6jihvAy"
      },
      "source": [
        "> **Comandos e bibliotecas básicas**"
      ]
    },
    {
      "cell_type": "code",
      "metadata": {
        "id": "hCTIPTZ_7Mpr"
      },
      "source": [
        "import pandas as pd  # biblioteca com ferramentas para análise de dados/dataframes\r\n",
        "import numpy as np  # biblioteca com operações matemáticas"
      ],
      "execution_count": null,
      "outputs": []
    },
    {
      "cell_type": "code",
      "metadata": {
        "id": "Oo92rnFuLui2"
      },
      "source": [
        "# Pesquisa Nacional por Amostra de Domicílios - PNAD (IGBE)\r\n",
        "df = pd.read_csv(\"https://raw.githubusercontent.com/dayanebravo/AED/main/pes_2012.csv\")  # ler dados no formato CSV"
      ],
      "execution_count": null,
      "outputs": []
    },
    {
      "cell_type": "code",
      "metadata": {
        "id": "vEDfMJxcMqm8"
      },
      "source": [
        "df.head()  #  exibe as primeiras linhas da tabela"
      ],
      "execution_count": null,
      "outputs": []
    },
    {
      "cell_type": "code",
      "metadata": {
        "id": "7tYVTbr8ORgj"
      },
      "source": [
        "df.shape  # informa a dimensão da tabela (linhas, colunas)"
      ],
      "execution_count": null,
      "outputs": []
    },
    {
      "cell_type": "code",
      "metadata": {
        "id": "K83glqKemt2z"
      },
      "source": [
        "df.info()  # informações gerais dos dados"
      ],
      "execution_count": null,
      "outputs": []
    },
    {
      "cell_type": "code",
      "metadata": {
        "id": "hywiL4uqRJ2H"
      },
      "source": [
        "df.dtypes  # informa os tipos de dados de cada coluna"
      ],
      "execution_count": null,
      "outputs": []
    },
    {
      "cell_type": "code",
      "metadata": {
        "id": "vCHrrYUxQdtA"
      },
      "source": [
        "df.V4718  #  acessar dados da coluna"
      ],
      "execution_count": null,
      "outputs": []
    },
    {
      "cell_type": "code",
      "metadata": {
        "id": "vbq5RRblOrDq"
      },
      "source": [
        "df[\"V4718\"]  #  acessar e ALTERAR dados da coluna"
      ],
      "execution_count": null,
      "outputs": []
    },
    {
      "cell_type": "code",
      "metadata": {
        "id": "a-W_tlNcmvgC"
      },
      "source": [
        "df.dropna(axis=\"columns\")  # remove colunas com ao menos um valor inválido"
      ],
      "execution_count": null,
      "outputs": []
    },
    {
      "cell_type": "code",
      "metadata": {
        "id": "XSJ6dVRTQb2J"
      },
      "source": [
        "df.dropna()  # remove linhas com ao menos um valor inválido - mas não altera o dataframe original"
      ],
      "execution_count": null,
      "outputs": []
    },
    {
      "cell_type": "code",
      "metadata": {
        "id": "KXMceBYgiGFO"
      },
      "source": [
        "ndf = df.dropna()  # criando um NOVO dataframe com as linhas inválidas removidas"
      ],
      "execution_count": null,
      "outputs": []
    },
    {
      "cell_type": "code",
      "metadata": {
        "id": "TDhMJ9czjNJ1"
      },
      "source": [
        "ndf.head()  #  exibe as primeiras linhas da tabela"
      ],
      "execution_count": null,
      "outputs": []
    },
    {
      "cell_type": "code",
      "metadata": {
        "id": "PGkAbDZMjj7u"
      },
      "source": [
        "ndf.dtypes  # informa os tipos de dados de cada coluna"
      ],
      "execution_count": null,
      "outputs": []
    },
    {
      "cell_type": "markdown",
      "metadata": {
        "id": "U8Q6b-7TkFk0"
      },
      "source": [
        "> Observar as colunas V4718 e V4720"
      ]
    },
    {
      "cell_type": "code",
      "metadata": {
        "id": "O2ihXmzPkSZG"
      },
      "source": [
        "df[\"V4718\"] = pd.to_numeric(df[\"V4718\"],errors=\"coerce\")  # transformar dados da coluna em float e substituir os erros por NaN\r\n",
        "df[\"V4720\"] = pd.to_numeric(df[\"V4720\"],errors=\"coerce\")  "
      ],
      "execution_count": null,
      "outputs": []
    },
    {
      "cell_type": "code",
      "metadata": {
        "id": "4Fr_aGdQku5d"
      },
      "source": [
        "df.dtypes  # informa os tipos de dados de cada coluna"
      ],
      "execution_count": null,
      "outputs": []
    },
    {
      "cell_type": "markdown",
      "metadata": {
        "id": "RT-2p9seoYPA"
      },
      "source": [
        "# **Variáveis Qualitativas e Quantitativas**"
      ]
    },
    {
      "cell_type": "code",
      "metadata": {
        "id": "Q7bKJPuojp_8"
      },
      "source": [
        "df.select_dtypes(include=['object'])  # seleciona os valores qualitativos encontrados nos dados"
      ],
      "execution_count": null,
      "outputs": []
    },
    {
      "cell_type": "code",
      "metadata": {
        "id": "02iXPNRioHAx"
      },
      "source": [
        "df.select_dtypes(include=['number'])  # seleciona os valores quantitativos encontrados nos dados"
      ],
      "execution_count": null,
      "outputs": []
    },
    {
      "cell_type": "markdown",
      "metadata": {
        "id": "XZPsAI4coc8H"
      },
      "source": [
        "> **Valores Quantitativos: discretos ou contínuos**"
      ]
    },
    {
      "cell_type": "code",
      "metadata": {
        "id": "9fmJtbq8PI5W"
      },
      "source": [
        "print(type(df.V0101[1]))  # valor quantitativo discreto (finito) da coluna e posição indicada\r\n",
        "df.V0101[132]"
      ],
      "execution_count": null,
      "outputs": []
    },
    {
      "cell_type": "code",
      "metadata": {
        "id": "zxWSdPCCljvD"
      },
      "source": [
        "pdmedia = ndf.V8005.mean()   # valor quantitativo contínuo (não enumerável) - média das idades pela PANDAS\r\n",
        "print(\"A média é: \", pdmedia)\r\n",
        "type(pdmedia)  # tipo da variável calculada"
      ],
      "execution_count": null,
      "outputs": []
    },
    {
      "cell_type": "code",
      "metadata": {
        "id": "1mz3AwnOiXxo"
      },
      "source": [
        "npmedia = np.mean(ndf.V8005)   # valor quantitativo contínuo (não enumerável) - média das idades pela NUMPY\r\n",
        "print(\"A média é: \",npmedia)"
      ],
      "execution_count": null,
      "outputs": []
    },
    {
      "cell_type": "markdown",
      "metadata": {
        "id": "UxQAzotktH4q"
      },
      "source": [
        " \r\n",
        "> **Representação numérica**\r\n",
        "\r\n"
      ]
    },
    {
      "cell_type": "code",
      "metadata": {
        "id": "zRd6WLCCnzLW"
      },
      "source": [
        "print(\"%.2f\" % pdmedia)   # arredondamento 2 casas decimais"
      ],
      "execution_count": null,
      "outputs": []
    },
    {
      "cell_type": "code",
      "metadata": {
        "id": "wghQcCRApwRl"
      },
      "source": [
        "print(\"%.5f\" % pdmedia)   # arredondamento 5 casas decimais"
      ],
      "execution_count": null,
      "outputs": []
    },
    {
      "cell_type": "code",
      "metadata": {
        "id": "SUFpK55ermhE"
      },
      "source": [
        "print('{:e}'.format(pdmedia))   # notação científica"
      ],
      "execution_count": null,
      "outputs": []
    },
    {
      "cell_type": "code",
      "metadata": {
        "id": "TG7_ZHfdsLvM"
      },
      "source": [
        "print('{:.2e}'.format(pdmedia))   # notação científica com 2 casas decimais"
      ],
      "execution_count": null,
      "outputs": []
    },
    {
      "cell_type": "markdown",
      "metadata": {
        "id": "K_61KBdgswcb"
      },
      "source": [
        "# ***Frequência de dados***\r\n",
        "> ***Frequência Absoluta***"
      ]
    },
    {
      "cell_type": "code",
      "metadata": {
        "id": "h1nS3CQIuPzW"
      },
      "source": [
        "ndf.V0404.value_counts()   #  frequência qualitativa - características físicas"
      ],
      "execution_count": null,
      "outputs": []
    },
    {
      "cell_type": "code",
      "metadata": {
        "id": "GqvdCNINu7gP"
      },
      "source": [
        "ndf.V8005.value_counts()    # frequência quantitativa - idade"
      ],
      "execution_count": null,
      "outputs": []
    },
    {
      "cell_type": "markdown",
      "metadata": {
        "id": "12CPs1cfuI3p"
      },
      "source": [
        ">***Frequência Relativa***"
      ]
    },
    {
      "cell_type": "code",
      "metadata": {
        "id": "lJ5L30SBuQTw"
      },
      "source": [
        "print(\"número total de observações: \", len(ndf.V0404) )   #  número total de observações - linhas\r\n",
        "\r\n",
        "np.divide(ndf.V0404.value_counts(), len(ndf.V0404))  #  frequência relativa da coluna indicada - características físicas"
      ],
      "execution_count": null,
      "outputs": []
    },
    {
      "cell_type": "code",
      "metadata": {
        "id": "R-PT3cJzvICx"
      },
      "source": [
        "print(\"número total de observações: \", len(ndf.V8005))   #  número total de observações - linhas\r\n",
        "\r\n",
        "np.divide(ndf.V8005.value_counts() , len(ndf.V8005))  #  frequência relativa da coluna indicada - idade"
      ],
      "execution_count": null,
      "outputs": []
    },
    {
      "cell_type": "markdown",
      "metadata": {
        "id": "S377LcDUuXUR"
      },
      "source": [
        "## Próximas aulas...\r\n",
        "> **Gráficos de frequência**\r\n",
        "\r\n",
        "> **Tabela em Grupos**"
      ]
    },
    {
      "cell_type": "code",
      "metadata": {
        "id": "o5jjfUoRYqIh"
      },
      "source": [
        "ndf.groupby(['V0302','UF']).agg({'V8005': np.mean})  # Tabela agrupando: sexo / UF / idade média"
      ],
      "execution_count": null,
      "outputs": []
    }
  ]
}