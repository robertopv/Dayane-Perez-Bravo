{
  "nbformat": 4,
  "nbformat_minor": 0,
  "metadata": {
    "colab": {
      "name": "AED_AP_04.ipynb",
      "provenance": [],
      "collapsed_sections": [],
      "mount_file_id": "1B2oBsWmJKvLVj-VD5fS789amvY-ng-XC",
      "authorship_tag": "ABX9TyP5m9tH9qobmq384qHuh0zi",
      "include_colab_link": true
    },
    "kernelspec": {
      "name": "python3",
      "display_name": "Python 3"
    }
  },
  "cells": [
    {
      "cell_type": "markdown",
      "metadata": {
        "id": "view-in-github",
        "colab_type": "text"
      },
      "source": [
        "<a href=\"https://colab.research.google.com/github/dayanebravo/AED/blob/main/AED_AP_04.ipynb\" target=\"_parent\"><img src=\"https://colab.research.google.com/assets/colab-badge.svg\" alt=\"Open In Colab\"/></a>"
      ]
    },
    {
      "cell_type": "markdown",
      "metadata": {
        "id": "wsGhw2xlbKyy"
      },
      "source": [
        "# **Análise Exploratória de Dados - AED** - **Aula Prática 04**"
      ]
    },
    {
      "cell_type": "markdown",
      "metadata": {
        "id": "Tk3jnILZbuTg"
      },
      "source": [
        "> Importar bibliotecas e dados"
      ]
    },
    {
      "cell_type": "code",
      "metadata": {
        "id": "onywXJDZo6p7"
      },
      "source": [
        "import pandas as pd  # biblioteca com ferramentas para análise de dados/dataframes\r\n",
        "import numpy as np  # biblioteca com operações matemáticas"
      ],
      "execution_count": null,
      "outputs": []
    },
    {
      "cell_type": "code",
      "metadata": {
        "id": "GFUcKMppo94z"
      },
      "source": [
        "df1 = pd.read_csv(\"https://raw.githubusercontent.com/dayanebravo/AED/main/pes_2012.csv\")  # ler dados no formato CSV\r\n",
        "df1.head()  #  exibe as primeiras linhas da tabela"
      ],
      "execution_count": null,
      "outputs": []
    },
    {
      "cell_type": "code",
      "metadata": {
        "id": "9aMO2e3Ao_-R"
      },
      "source": [
        "df1[\"V4718\"] = pd.to_numeric(df1[\"V4718\"],errors=\"coerce\")  # transformar dados da coluna em float e os erros substituir por NaN\r\n",
        "df1[\"V4720\"] = pd.to_numeric(df1[\"V4720\"],errors=\"coerce\")"
      ],
      "execution_count": null,
      "outputs": []
    },
    {
      "cell_type": "code",
      "metadata": {
        "id": "6KnhRZyVMGYG"
      },
      "source": [
        "df = df1.dropna()  # criando um NOVO dataframe com as linhas inválidas removidas\r\n",
        "df.head()  #  exibe as primeiras linhas da tabela"
      ],
      "execution_count": null,
      "outputs": []
    },
    {
      "cell_type": "code",
      "metadata": {
        "id": "UHRgcY51pp0Z"
      },
      "source": [
        "import matplotlib.pyplot as plt  # biblioteca básico para gráficos \r\n",
        "import seaborn as sn  # biblioteca auxiliar para gráficos"
      ],
      "execution_count": null,
      "outputs": []
    },
    {
      "cell_type": "code",
      "metadata": {
        "id": "oPHAUOZ8qNI3"
      },
      "source": [
        "sn.set(style=\"ticks\",palette='crest')  # definir estilo de gráfico e cor"
      ],
      "execution_count": null,
      "outputs": []
    },
    {
      "cell_type": "markdown",
      "metadata": {
        "id": "7dv6odVi7voz"
      },
      "source": [
        "# **Séries: Temporais e Geográficas**\r\n",
        "> **Temporal**"
      ]
    },
    {
      "cell_type": "code",
      "metadata": {
        "id": "YXtneRutgVeL"
      },
      "source": [
        "series = pd.read_csv(\"https://raw.githubusercontent.com/dayanebravo/AED/main/daily-total-female-births.csv\", header=0, index_col=0, parse_dates=True, squeeze=True)  \r\n",
        "# parse_dates = combina/analisa colunas - squeeze = apenas uma coluna retorna uma série\r\n",
        "\r\n",
        "series.head()  #  exibe as primeiras linhas da tabela"
      ],
      "execution_count": null,
      "outputs": []
    },
    {
      "cell_type": "code",
      "metadata": {
        "id": "P2lOthloaZyV"
      },
      "source": [
        "plt.figure(figsize=(15 ,5))   # tamanho do gráfico\r\n",
        "plt.plot(series)  # plotar o gráfico\r\n",
        "plt.ylabel('total')  # nome do eixo y\r\n",
        "plt.xlabel('data de aniversário')  # nome do eixo x\r\n",
        "plt.show()  # exibir gráfico"
      ],
      "execution_count": null,
      "outputs": []
    },
    {
      "cell_type": "markdown",
      "metadata": {
        "id": "G2-J2iLCaLT1"
      },
      "source": [
        "> **Geográfica**"
      ]
    },
    {
      "cell_type": "code",
      "metadata": {
        "id": "QEPPhAsVUWBD"
      },
      "source": [
        "sizes = df.UF  # coluna analisada \r\n",
        "sn.displot(y=sizes)  # dados na vertical para evitar problemas de espaçamento\r\n",
        "plt.ylabel('UF')  # nome do eixo y\r\n",
        "plt.xlabel('quantidade')  # nome do eixo x\r\n",
        "plt.show()  # exibir gráfico"
      ],
      "execution_count": null,
      "outputs": []
    },
    {
      "cell_type": "markdown",
      "metadata": {
        "id": "ZGLIUXu08VJ6"
      },
      "source": [
        "# **Somatórios** \r\n",
        "> ![image.png](data:image/png;base64,iVBORw0KGgoAAAANSUhEUgAAADcAAABLCAYAAADUOx/8AAADyUlEQVR4Ae2Zja3qMAxGuwIzsAI7MAIzsAIbsAEbMAETsAALsAE79OkgfSiKkjR/7TW8WkKh3JL65HNshzuMP2zDD7ONK9y3qrsqtypncAXWsDQoSpZLzcpdLpfxdru9H/Z8Psfz+fy5zvJgxpuq4V6v17jf78fj8TgOw/AGOhwOIy+uLViTFyh1v9/fMKfT6c2j66+HA4Cw3Gw2I0rqervdWmBrb78UiqLhmlC1YE1hCQAqoZ4MFa/X60dJff4XYxMce47kwT6TcY1yKKhQ1d+WHpvhSP2uURZQ8q/B8KkJzoWy+H6Fs6hKjk//p3IkBTLfHK+cVe9xT1I5ekfBkdprjcypHpT5lrLkk6hjFGUBusW6xkEKvhk4AKhbggMU4FqjJpqCA4SOX4C73a6W7XOCqJ6g8IvJsNRc7BmgBOh3JbrP2pgFh9OPx+MDB6TbT1qDkj/ZcHzBLQ8kBwv9o0BCYxEcE1ASFJ4t5SHkTO/PiuFQyy0PnN2sWjEcIPqdBAVby8OcC1MFh0OqWQC2lAeTcDhlvTxUKwec355ZKw9NcACSUJQ9rZWHZjgA3Y6/tTzQLOg04jbq2uMl2bkLHOVBHT8q6n8HgJcaC8V8jGRiDCD9ol0yXxc4Hui2Z+6Klzjj3qvTCGC10dANTsmlV1lAPaKgZR93gwOqd0FnPsIzZoQq8DHrAqfzXste8x0kHIFriYRmOLViqRX2HZ+6Zv+yzwAkNAlR31R+UrW1CY6HanVDDvgO5VwzD6WAUUmKBMV795CshJOaswkOJ4DjwT2MEGQPufOhICqpROg5qDoVstVwKqo90r4cLhmBnap9VXAKl9r6UwIRuxeFUS9lxXDsBSbm1WufpRyM/Y1QJZmgXsyPYjjtAXdfxByY83PV1ZR6RXDsL1bMzVpzArTOnQ2HUmRGMuS3WBYcMa0wiMV3LjALtJTyWXCkXW3gXIjQfTTXS4b1JJxaoKmaEoLxP9Oe7dmD+s9wr5NwPY8xpG1CskcEuACp90k49hnO9H6lmt2Us6V/i8LpGNMbjPmWqpFROP1IMwdcqQK190fhaie09L0VDjUoCak+bkoxMu9SiUS+ZCtHjapxDig1AUt1JtlwOIdTNY7RqnGKYFEoKzVzyNGacVI54HCM85trAg6NofAl+5qDAwin/FN3CEqffRUcq976W4lZ5SjkfjKRSqHxa5QDCjiM/ScLQemzEJzJhCI4ek1SeqkBrFKgg6ofBaVz5t4/mS2ZiP0WUiPnIVLTHU3B5UBYvCdLOYuO5/i0wuWsksV7flq5f0L3zN+1tCAyAAAAAElFTkSuQmCC)"
      ]
    },
    {
      "cell_type": "code",
      "metadata": {
        "id": "jyiwMY6Cmlps"
      },
      "source": [
        "def somatorio(x): # criar uma função que precisa de uma entrada x\r\n",
        "    if x==1:\r\n",
        "      return 1  # para x=1 retorna a saída e encerra a função\r\n",
        "    else:  # caso x diferente de 1\r\n",
        "      return x + somatorio(x-1)  # retorna a soma do termo e seu antecessor\r\n",
        "\r\n",
        "x = int(input(\"Calcular o somatório de 1 até: \"))  # construir a entrada x\r\n",
        "print(\"Resultado do somatório: \", somatorio(x) )  # print que chama a função definida calculada em x"
      ],
      "execution_count": null,
      "outputs": []
    },
    {
      "cell_type": "markdown",
      "metadata": {
        "id": "MwHKh4tcsflS"
      },
      "source": [
        ">![image.png](data:image/png;base64,iVBORw0KGgoAAAANSUhEUgAAAD8AAABFCAYAAAD95j54AAAEIklEQVR4Ae2a243qMBCGaYEaaIEeKIEatgU6oAM6oAIqoAEaoIN92EdeUI4+pB/NsUIutsdxgJGiJCRrzzdXO9pF80Zyu92av7+/wcfijdibj4a/3+8PA2CEIYer5w+HQ3M6nR7Bdb1em/1+/7yvIeJc4H9/f5vNZtP8/Pw0i8XiAbzdbhsO7msRN03w9Pl8fsDudrsHr+7fHh5Awn65XDZEgu5Xq1Ut7I2b5yFUqIuWe1KhFnGFx8t4X0IUHI/HZyTo96nObvDkPMWNPJdwj+eJAKWCnk1xdoWntVmh7REJNYCjlxu8ha71+gtfq2e89fp6fqyFKVpUbo9jrC4p70d7nrW74GldsULl1x6A8UpK9Gz0cRYtMoBdzMQAsCCaDTyA9G3BYwgMEiusCWYFDyg7NhlgvV7Hsj93gNEDRPxhdNhrLnIWaBkgXNXpvRrPyfBAXS6XJzxGsOv5GqGlUxZ4BrPtj+JVw/qdmkQn0VelsCZlg8cAtDyFf0r7k2dSzjiDdMQAHBRkjGAlKzzetu2PvftUgpdt9LV1k6zwgOo7HRGQ2v5yGk7fEeyY2eEZXFbGACntzyqack1BbnOECzyK1tL+AKcAcw7FDT5c/k7R/rrAMYQbPINT8FT9S7c/ih1zWqOHCzBXeAxgd2yp7Q8gjWfHUivjmYRr8pz2pgNHWPn/zj7JdC0PKAJQNFbo3XhSEUVYc2AI5rHC77wbHvYdd3gmQxHBp259GQ9QxiOM8WoIbgG7rovAq/jlbHuMRVjj2VgpAi9Fw7V1rNL8HaFOQXslzEVkdM3pDq/9fkquh4CkEeCE/quQ552wuofjuMITkihoq3CowNh7YMlz1ZE2o1IQAe9LCTd4lCQnCflX3hkLzvsYUlCMr0pvDaztdd/Gyg0e76AcHsohpA/jWSBBKhLsPERc39wu8IQck+doaxZo6DWRgaH6JDu8ctGuwPqUyP0c4xMNfZIVntymCnPkzPM+iPA54BgAHbr0yAqPt4fkWqhs7nvgdXTlfTZ4FR8sPrUAjB5dCxx0zALPZBSYIXk2tWHs/Mnw5JSWr135ZSd9dY0BS0ZOMjyLC/JcC49XYH2/E6KMMxt47av1H5Z9gF3PVTPalqtdf5fyLNrzeIowJeRTRYuSHBE0RpdoeKBRNveRmj7u8Nqm5gZnvK6+PAZsyLtRnqeleYAzZkkpO1tJsgFzfeEHGKnzFYpUSn9mcVSyxQkmi+dR3H5k0OB9Z6Ax2lRL42R4lOfo20S0GYLVIYbjPMW+IBle21gLTxTIKG3n0BC8M0t4rc4s0MfA47XUT1az9TzhivJWPsbzrMoI/ZScZ7k8y5wHXtV67McMIkTf4xmHa34rJcnVnlbFXnwsOIBt6TEr+FJe8pgn2fMeSpUa8wtfytK1zfPRnv8H1ToBCHAEczgAAAAASUVORK5CYII=)"
      ]
    },
    {
      "cell_type": "code",
      "metadata": {
        "id": "Wyk5y4ZhoI1k"
      },
      "source": [
        "def somatorio(x): # criar uma função que precisa de uma entrada x\r\n",
        "    if x==1:\r\n",
        "      return 1  # para x=1 retorna a saída e encerra a função\r\n",
        "    else:  # caso x diferente de 1\r\n",
        "      return x**2 + somatorio(x-1)  # retorna a soma do termo elevado ao quadrado e seu antecessor - soma dos quadrados\r\n",
        "\r\n",
        "x = int(input(\"Calcular o somatório de 1 até: \"))  # construir a entrada x\r\n",
        "print(\"Resultado da soma dos quadrados: \",somatorio(x) ) # print que chama a função definida calculada em x"
      ],
      "execution_count": null,
      "outputs": []
    },
    {
      "cell_type": "markdown",
      "metadata": {
        "id": "8WQrfgcZsqWA"
      },
      "source": [
        "> ![image.png](data:image/png;base64,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)"
      ]
    },
    {
      "cell_type": "code",
      "metadata": {
        "id": "zHMgmOcCoxvQ"
      },
      "source": [
        "def somatorio(x): # criar uma função que precisa de uma entrada x\r\n",
        "  if x==1:\r\n",
        "    return 1  # para x=1 retorna a saída e encerra a função\r\n",
        "  else:  # caso x diferente de 1\r\n",
        "    return (x-k)**2 + somatorio(x-1) \r\n",
        "# retorna o termo subtraído da média elevado ao quadrado e o resultado é somado ao seu antecessor \r\n",
        "\r\n",
        "x = int(input(\"Calcular o somatório de 1 até: \"))  # construir a entrada x\r\n",
        "k = int(input(\"O valor médio dos dados é: \"))  # informar a média\r\n",
        "print(\"Resultado da função: \",somatorio(x) )  # print que chama a função definida calculada em x"
      ],
      "execution_count": null,
      "outputs": []
    },
    {
      "cell_type": "code",
      "metadata": {
        "id": "o3mhxhpAbJk9"
      },
      "source": [
        "x = df.V8005  # construir a entrada x\r\n",
        "k = df.V8005.mean()  # calcular a média\r\n",
        "\r\n",
        "def dm(x): # criar uma função que precisa de uma entrada x\r\n",
        "  aux = np.array((x-k)**2)  # auxiliar que monta um vetor com a entrada subtraída da média e esse resultado é elevado ao quadrado\r\n",
        "  return aux.sum()  # saída da função: soma dos termos do vetor aux\r\n",
        "\r\n",
        "print(\"Resultado da função: \", dm(x) )  # print que chama a função definida calculada em x"
      ],
      "execution_count": null,
      "outputs": []
    },
    {
      "cell_type": "markdown",
      "metadata": {
        "id": "O6K9Y2LB8aGR"
      },
      "source": [
        "# **Medidas de Tendência Central: Mediana, Moda e Média**"
      ]
    },
    {
      "cell_type": "markdown",
      "metadata": {
        "id": "1tUI6XIb8j_h"
      },
      "source": [
        ">**Mediana**"
      ]
    },
    {
      "cell_type": "code",
      "metadata": {
        "id": "NFrE-KeZrjN1"
      },
      "source": [
        "np.median(df.V8005)  # usando numpy"
      ],
      "execution_count": null,
      "outputs": []
    },
    {
      "cell_type": "code",
      "metadata": {
        "id": "PcSiDgPdz6qN"
      },
      "source": [
        "df.V8005.median()  # usando pandas"
      ],
      "execution_count": null,
      "outputs": []
    },
    {
      "cell_type": "markdown",
      "metadata": {
        "id": "6cpkwL-N8mP6"
      },
      "source": [
        ">**Moda**"
      ]
    },
    {
      "cell_type": "code",
      "metadata": {
        "id": "5iGrMI3hsH2b"
      },
      "source": [
        "df.V8005.mode()  # moda quantitativas"
      ],
      "execution_count": null,
      "outputs": []
    },
    {
      "cell_type": "code",
      "metadata": {
        "id": "UmO1yYZv0Krb"
      },
      "source": [
        "df.UF.mode()  #  moda qualitativas"
      ],
      "execution_count": null,
      "outputs": []
    },
    {
      "cell_type": "markdown",
      "metadata": {
        "id": "6s_PAgED8o8y"
      },
      "source": [
        ">**Média aritmética**\r\n",
        ">> ![image.png](data:image/png;base64,iVBORw0KGgoAAAANSUhEUgAAAGYAAAA8CAYAAACUys/zAAAEVElEQVR4Ae2aC5HyMBhFsYAGLOABCWhYCzjAAQ5QgAIMYAAHeMg/h/kvk83mUdopSeiXmQ5t2uZxT75HurtyVppUYNXkqGxQzsA0uggMjIFpVIFGh2UWY2AaVaDRYZnFGJg6CtxuN3e/31+dX6/XX9evG42ddGEx5/PZrVarwQfiUw6Hg9tut269XjsA7XY7t9lsnteNcfgznC7AMGpEBc7Pz8+fSVABDADwDOePx8NdLpfnud6jjntct17aH+F/BXFHEh7BY+V4PL7A6L6sTe6Ma9ppvXQDBiFPp9NTeIRl9YcF8WUxuoeFYW0qXO/3e102+9sVGFREVMT3xc6pS4zBklSIMQBuvXQHBkuRSysJzLOhBXHNe1hOzOqmACN+sQjkNmmLPqjj3julOzBMjhiDwBxkW6miTMwHQKaG1eXeS7WXq0d82sYiZc30K4v1YeXa0b0uwTB4ubRW4oUSEsVBoExZAN2CUaBnlbZUsEQsGashAxxbugXDxHETLRbA5CxZsSg39i7B4M9JAIb6bQCmNqY5cbin4J0T2m+D5xmb4ox/T+e4vZI1dQdGO3f5dE12jl/iBQL7Ab3UDwA5gBMrLCqO0qLqCgyrEZFycQXrUGoqiLiWMUXtIGTOAtQ2z2EJ6leZn9rhOaAxnq8Cw6RycUUJgS8EEENRESZ1hM8iZgkMMOhH7lLujLEyZt+6GVvKmgSY33FLyW/hQ+e4lVJcQRgE98FQl7OwIcMvgWFsYcxgDLwXWgZ1wCqVLsAoBU2t8rDeB4Pr81dsSZDY/RKY2DupOiyS9kqlCzBMJhQ/d61VKtema4mRe3eMK1O7Q37pm4UTjil8twiGRlITiU0i7KDmtcaOzx/rzniXeWJ5nE8taIl7pc1ce0UwUwdS831WJXEJUZUhvTMexAsX5dTFiFslJuWgMMavBvMOhNaezYIhSGnFiTArjzSQVWhlPgWSYAAAGAVQmR+mXApc8w13OS0nwfgSaKNE0PJTUf+Z8ByooX/OXYfvL/16EBgyGlzakPx7DkFzQL/hXkyzQWBwYwhgLiwm4Tx1RTAEfaWN7+ygzZVNA1YEo7hCFjZ2kzZtiMt8OwuGD3OKK3x40+4XWEqflynb/LOOgsFlEVN8CyEb057mHZc2/xS+s4comO+cal+zMjCN8jIwBqZRBZx7fnkOvz4TU2vu2xZtMWSWZJh8ciLZAQaA2LeRgaquxpJaNBiyS/2tHghAUiYKNOq0Xfg0nEWDkdj6go7laH+mOj5H1SgGxrmn1WAd/v5Me7kw9nwKkoFx7unCAOMXfVH36z55/ns0n+y5ob5wYeHf8gn+Q/7/a65pLB5MKsj7gV9xZy4IsXYXD0axxI8vCvxkaWRlytRiAs5Vt3gwpMu4sdAqgEG90um5AKTaXTyYlDC16w1MbQKJ/g1MQpja1QamNoFE/wYmIUztagNTm0CifwOTEKZ2tYGpTSDRv4FJCFO7+h9guIlMmCCfqwAAAABJRU5ErkJggg==)"
      ]
    },
    {
      "cell_type": "code",
      "metadata": {
        "id": "m4lPcSBP0qSL"
      },
      "source": [
        "np.mean(df.V8005)  # usando numpy"
      ],
      "execution_count": null,
      "outputs": []
    },
    {
      "cell_type": "code",
      "metadata": {
        "id": "fzpVbmPx0uHz"
      },
      "source": [
        "df.V8005.mean()  # usando pandas"
      ],
      "execution_count": null,
      "outputs": []
    },
    {
      "cell_type": "markdown",
      "metadata": {
        "id": "x3b0BDzZ8sH7"
      },
      "source": [
        ">**Média ponderada**\r\n",
        ">> ![image.png](data:image/png;base64,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)"
      ]
    },
    {
      "cell_type": "code",
      "metadata": {
        "id": "fe8zBKOv1oMr"
      },
      "source": [
        "pa = [15,15,30,30,10]  # Lista com os pesos de cada avaliação\r\n",
        "spa = 100  # soma dos pesos\r\n",
        "print(\"Índices das avaliações:\",\r\n",
        "      \"\\n 1 - APOL 1,\",\r\n",
        "      \"\\n 2 - APOL 2,\",\r\n",
        "      \"\\n 3 - Prova Objetiva,\",\r\n",
        "      \"\\n 4 - Atividade Prática,\",\r\n",
        "      \"\\n 5 - Prova Discursiva \\n\")\r\n",
        "# orientação para o usuário\r\n",
        "\r\n",
        "xi = []  # Lista com as notas de cada avaliação\r\n",
        "md = []  # Lista com os produtos do peso e da avaliação associada ao índice i\r\n",
        "n = 5  # Número de avaliações\r\n",
        "i = 0  # Índice i que vai percorrer todas as notas\r\n",
        "\r\n",
        "for i in range(n): # cada nota i dentro do número de avaliações\r\n",
        "   print(\"\\n Avaliação índice: \", i+1) # mensagem para usuário\r\n",
        "   xi.append(int(input(\"Insira a nota da avaliação de acordo com o índice acima: \")))  # entrada da nota em xi  \r\n",
        "   md.append(pa[i]*xi[i])  # inserir em md o resultado da multiplicação do peso pela nota\r\n",
        "\r\n",
        "# Calcular a soma dos produtos em md\r\n",
        "xp = 0 \r\n",
        "for k in md:  # cada entrada k em md\r\n",
        "    xp = xp+k  # soma das entradas de md\r\n",
        "          \r\n",
        "print(\"Esta é a média ponderada das suas notas: \", xp/spa) # mostra o total do produto da nota pelo peso - média final"
      ],
      "execution_count": null,
      "outputs": []
    },
    {
      "cell_type": "markdown",
      "metadata": {
        "id": "89ZnGTjjS5NV"
      },
      "source": [
        ">**Média geométrica**\r\n",
        ">>![image.png](data:image/png;base64,iVBORw0KGgoAAAANSUhEUgAAAKMAAAAwCAYAAAB9nsptAAAEkklEQVR4Ae2agY3CMAxFWYEZWIEdGIEZWIEN2IANmIAJWIAF2IAdenpIPuV8aZq2CTXEllDbpHG+v3+c9HSrzs0ZMMLAyggOh+EMdC5GF4EZBlyMZlLhQFyMrgEzDLgYzaTCgbgYXQNmGHAxmkmFA3ExugbMMNC0GI/HY7darfxXmYNctTctxs1m0z0ej1yu/L3KDDQrRkSIGN3sMPA1Ynw+n91ut+vW63V3vV5fV+777HK5dGzTbnYYyBJjiXMVQqlpVLr7/f46/4nIwN1nh8PhJdq+fm9/PwP92Xo/ltkzhlsv99vtttcnVZNq6maHga8SI1svFQ87n8/d6XSKVj8qaO1KbSfFn4MkW4wkmmrCoV8qCknlWQSwdNjgACfGlW1ankNsItSwjXv5U89+v//tkrhjfn5fyrgRP5b56wujJi/hnFliRHwkmisJJpncU11EmKFT6/fgvt1uf2Dy0YNguBIjC413Siy0T+avJi9/EtB14/+fkUSSIH6cy+Ya/kh+zk8LaOrcqa9sfMqCCyvk1Ln0uNL8af81n2vyAu6syhgGyDmMZFIdP9FY6UMiQzDESHUsbZ/MX01e4Hm0GNnKWCGfuD0TMOefoYVE1U99ibMjTD1DDvHHYkGwvGeN4yFe5i7c0WKkqiDGUlvmu7dpRJY6XsifhIhRG+KQygbuKdbHH/PKx+DcOabgGhqT4mVobG7/f8YTIyEJEUIa9zEjYfK1yjY3tYLEfOe2gZGk67nBBvaUMQ7csQVHzPRRXaeIMcUfyQ7xch9bECnsNftSvEjO5VgDdmKlfYxli5EJSAIGMCoMk1G6xQDDWYs2+XOAjJF3al9ZCMyJ6LTwiCHEq7HQxzaJEQd+iEkvPJ5jYkQ8sXb85fAX4mGOECsLDP8ai4yJ9Ws8YIsJHJ+04yNmKV7QAHrgh384E/77sMbmoG1QjEwG0BgxJFtWA85IYHgeQ7AkYQljXnCH84ekhpgQoH5XEgTBeoXTFxMdPnT7GP4EE5zqeWNik/e5xvo1HnzSpk1i1WLM5YUYyTu+RQ/MFWpBzxl7/o8s9lZGG8ARoxjbDuC4LmUsllAcPGthTcHWJ8YpvvSYmBD1OxafqYxURDG0IMKUtqFrMTHqBAEuFOcQkBr9Uh1Z8RCT+kIeM7+OdczY1LtaiLpSpcYu3Ueu5YgDbsn9mGJUTIxS0lkdCJEtMaxKS5BFFYQU8LBlIKI5Bsn4wCc/7ksJRrDCH35lnjl43zWWRcQuKLsOXLMLwXt4TBrCU0SMgAAQEwOEZ4BA6NIGBoiiKs4VjohRxMJ1rk/hB/5Cv3Iv/ZavYA/Ph+R/CjdFxKhXgKwUrksbxEglWxqLz59moJgYqTysBrYZkh9+fach1O8FFwvGzTYDRcRI9WGLlq2l1NZlmzpHV5qBImIsDcr9tcmAi7HNvJuM2sVoMi1tgnIxtpl3k1G7GE2mpU1QLsY2824yahejybS0CcrF2GbeTUbtYjSZljZBuRjbzLvJqF2MJtPSJigXY5t5Nxm1i9FkWtoE5WJsM+8mo3YxmkxLm6BcjG3m3WTUP5Zmiyr+Ev+gAAAAAElFTkSuQmCC)"
      ]
    },
    {
      "cell_type": "code",
      "metadata": {
        "id": "IgMIn8k-Xhmo"
      },
      "source": [
        "def geo_mean(k):  # criar uma função que precisa de uma entrada k\r\n",
        "  aux = np.array(k)  # auxiliar que monta um vetor com a entrada\r\n",
        "  return aux.prod()**(1.0/len(aux))  # saída da função: produto dos termos do vetor aux elevado à (1/n)\r\n",
        "\r\n",
        "x=[2,4,8,16,32]  # entrada como vetor\r\n",
        "print(geo_mean(x))  # print que chama a função definida calculada em x"
      ],
      "execution_count": null,
      "outputs": []
    },
    {
      "cell_type": "markdown",
      "metadata": {
        "id": "R-hq5i3WS-HM"
      },
      "source": [
        ">**Média harmônica**\r\n",
        ">> ![image.png](data:image/png;base64,iVBORw0KGgoAAAANSUhEUgAAAGkAAABQCAYAAAAa91tfAAAFPUlEQVR4Ae2ZgXEqIRCGbcEa0kJ6SAmpIS3YgR2kg1RgBWkgDaQDe+DN5/N3VjwiHCrgLTM3xyF37P3f7bLgKnjpXoFV9xa6gcEhDfAROCSHNIACA5jonuSQBlBgABPdkxzSAAoMYKJ7kkMaQIEBTHRPckgDKHA08efnJ/z+/p4Mpv79/X26bllZvCft9/vw/v4eXl9fw2q1OoD6+vo6XK/X6/D29taSz2HsxUPa7XYBL8JrgLTZbAKQKNvt9tDWmtLiIQmAIH18fKjJIZ2U6KQir7HzEqHOw10ngDBjCghzEvBaFw93RwIAYT5SYZ5ijuohw3NIIRwyOoAoYQDU5+fnKWkgA2xZHFIIBzhKvwVDcxTZH6HQzlXq86izQzpCihMErZ/I9loC4kNwSI9yh4pxziDh8rVH/EVW2Oa3HhU4g+Sq9KmAQ+qTy5lVF5BYH7y8vATWDVojMIkSxmj38ngFLiCRzQCFXWF2hymcgeeljQIXkGQG6wQ8h0Uda4VblJKk5BbjPcszkpCmdoX10ngVEO0KXb/d+1wCuve+uVolIbGA4yWnvAiAeJnCYe5g3m+eAklIbDYCIrULTCKR+i1lSsmXnXrGEtsnIeEpACCJSC1Olf2pb+utk17h3UKXC0jMNwKjnWCyPWV9iKFQSLjD42wm2KtYj7YLzdCG6FFbzp6A2BwMQOGMx3DYJIE6g6sNYzi8/FeAjxsdmS5uDilXZIDYpAFjphKM3Oc9Uz+iDJAoTBnNIPGVyBCFPrxOHvhMote8SzNIgODr0A6E1lN4V2m2VyPACPc2g4TnxDDwKg93l59NM0iXpnhLSgGHlFKmo3aH1BGMlCmLhcT8R+KScyAShfmSBTrJDgfLB457Z6OLhYToLAGApGWA/ZIRnt0RfkckbVsJDL8pI+V8r0KCxZiyo2acsx2Hmgc98l68gZdnJwQx4qJlgjyJ3/EkbXdxzf1T98bPmnOtseKzdmhKnzkkJF6SdRlCW+Hty/MVW0j0lecQ/tglGaUMCwlv0d7YVNizABTe1AZgwp7mKLX3eh4WEoJK/FTYk+h4lPU4AAGYtnsnD7Kh5jw0JF5cSYKFEAuCx9j5BzAKfXHfHq+Hh4TgeBJzztyJuQYM4849cscdHhIvSjhDKDzmGcvwkORJ15IH4BHi5s5BLT+A4SExF/01H8mzEDmnn/rrbBelanv0eWhIeA/z0TXvQGi8yCYPQKNt6pDXMMfpfzLCaavSbuTKN0ZIhMv5Hwux6WtDIuLLC+Mzv9kCSIdkFcmss39H+p0qgqDfEVkeorbccw4kPgS8mvWXPJvxuP7LzhwbhvQkAFgx4hclrCGYtoUQi2tbaJsKdbTFMK9BAgogOMtjqeOhAmbHLq0PB0mCIca1Q5AIc+zl2SJPi0Md1zXhjvsBxmHnQDt2aX04SIhwDY5+FyQASTgg5xa8gP7cyzOZ/2Ivi5/FmHitnf/iPqXXw0EqfUH6M18ANyfJsM8HCPfZI/Yy219jATQV5rCh1I5FQIqFvOe1/uhLeSwfTOq3lF0OKaXMjHZCHQBIahRq7WNom2q3fabqDmlKlRlteIhCId7EEoGQx3ymQtgEYGlxSKWKRf0BwRxkYeBNtAHEJhp4ke0XPSp56ZCS0tz+BzwJjystDqlUsYr+eBdrp9L1k0OqEL3kVoVA5q3SkOeQSpSu7MsC18NdpYi93u6e1CsZY5dDMmL0WnVIvZIxdjkkI0avVYfUKxljl0MyYvRadUi9kjF2OSQjRq9Vh9QrGWOXQzJi9Fp1SL2SMXb9A8pvgwseeYgzAAAAAElFTkSuQmCC)"
      ]
    },
    {
      "cell_type": "code",
      "metadata": {
        "id": "2VGPdNi20UZy"
      },
      "source": [
        "x = [1,1/2,1/3,1/4,1/5]  # entrada como vetor\r\n",
        "n = 5  # quantidade de termos do vetor\r\n",
        "\r\n",
        "def soma_inv(k):  # criar uma função que precisa de uma entrada k\r\n",
        "  aux = 1/np.array(k)  # auxiliar que monta um vetor com o valor inverso da entrada\r\n",
        "  return aux.sum()  # saída da função: soma dos termos do vetor aux\r\n",
        "\r\n",
        "print(n/soma_inv(x))  # print que divide n pela função calculada em x"
      ],
      "execution_count": null,
      "outputs": []
    },
    {
      "cell_type": "code",
      "metadata": {
        "id": "Svn6haESTKrN"
      },
      "source": [
        "import statistics  # biblioteca com várias ferramentas estatísticas prontas\r\n",
        "x=[1,1/2,1/3,1/4,1/5]  # entrada como vetor\r\n",
        "print(statistics.harmonic_mean(x))   # função pronta da biblioteca statistics"
      ],
      "execution_count": null,
      "outputs": []
    },
    {
      "cell_type": "markdown",
      "metadata": {
        "id": "ygoG0MYrd9Jb"
      },
      "source": [
        "# **Próximas Aulas...**\r\n",
        "> **Medidas de tendência central para dados descritivos**\r\n",
        "\r\n",
        "> **Mais alguns gráficos**"
      ]
    },
    {
      "cell_type": "code",
      "metadata": {
        "id": "7IcLd-P8eX84"
      },
      "source": [
        ""
      ],
      "execution_count": null,
      "outputs": []
    }
  ]
}