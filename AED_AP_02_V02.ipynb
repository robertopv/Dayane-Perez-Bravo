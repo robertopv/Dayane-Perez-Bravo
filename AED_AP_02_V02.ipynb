{
  "nbformat": 4,
  "nbformat_minor": 0,
  "metadata": {
    "colab": {
      "name": "AED_AP_02_V02.ipynb",
      "provenance": [],
      "collapsed_sections": [],
      "include_colab_link": true
    },
    "kernelspec": {
      "name": "python3",
      "display_name": "Python 3"
    }
  },
  "cells": [
    {
      "cell_type": "markdown",
      "metadata": {
        "id": "view-in-github",
        "colab_type": "text"
      },
      "source": [
        "<a href=\"https://colab.research.google.com/github/dayanebravo/AED/blob/main/AED_AP_02_V02.ipynb\" target=\"_parent\"><img src=\"https://colab.research.google.com/assets/colab-badge.svg\" alt=\"Open In Colab\"/></a>"
      ]
    },
    {
      "cell_type": "markdown",
      "metadata": {
        "id": "X4Ol_eC_bk6s"
      },
      "source": [
        "# **Análise Exploratória de Dados - AED** - **Aula Prática 02**"
      ]
    },
    {
      "cell_type": "markdown",
      "metadata": {
        "id": "Tk3jnILZbuTg"
      },
      "source": [
        "> Importar bibliotecas e dados"
      ]
    },
    {
      "cell_type": "code",
      "metadata": {
        "id": "onywXJDZo6p7"
      },
      "source": [
        "import pandas as pd  # biblioteca com ferramentas para análise de dados/dataframes\r\n",
        "import numpy as np  # biblioteca com operações matemáticas"
      ],
      "execution_count": null,
      "outputs": []
    },
    {
      "cell_type": "code",
      "metadata": {
        "id": "GFUcKMppo94z"
      },
      "source": [
        "df1 = pd.read_csv(\"https://raw.githubusercontent.com/dayanebravo/AED/main/pes_2012.csv\")  # ler dados no formato CSV\r\n",
        "df1.head()  #  exibe as primeiras linhas da tabela"
      ],
      "execution_count": null,
      "outputs": []
    },
    {
      "cell_type": "code",
      "metadata": {
        "id": "9aMO2e3Ao_-R"
      },
      "source": [
        "df1[\"V4718\"] = pd.to_numeric(df1[\"V4718\"],errors=\"coerce\")  # transformar dados da coluna em float e os erros substituir por NaN\r\n",
        "df1[\"V4720\"] = pd.to_numeric(df1[\"V4720\"],errors=\"coerce\")"
      ],
      "execution_count": null,
      "outputs": []
    },
    {
      "cell_type": "code",
      "metadata": {
        "id": "Fy7z7W4LtsvJ"
      },
      "source": [
        "df = df1.dropna()  # criando um NOVO dataframe com as linhas inválidas removidas\r\n",
        "df.head()  #  exibe as primeiras linhas da tabela"
      ],
      "execution_count": null,
      "outputs": []
    },
    {
      "cell_type": "markdown",
      "metadata": {
        "id": "zh9N85GTpfS4"
      },
      "source": [
        "# **Bibliotecas para gráficos**"
      ]
    },
    {
      "cell_type": "code",
      "metadata": {
        "id": "UHRgcY51pp0Z"
      },
      "source": [
        "import matplotlib.pyplot as plt  # biblioteca básica para gráficos \r\n",
        "import seaborn as sn  # biblioteca auxiliar para gráficos"
      ],
      "execution_count": null,
      "outputs": []
    },
    {
      "cell_type": "code",
      "metadata": {
        "id": "oPHAUOZ8qNI3"
      },
      "source": [
        "sn.set(style=\"whitegrid\")  # definir estilo de gráfico"
      ],
      "execution_count": null,
      "outputs": []
    },
    {
      "cell_type": "markdown",
      "metadata": {
        "id": "ZikItUng4XcM"
      },
      "source": [
        "**Gráfico de Barras**"
      ]
    },
    {
      "cell_type": "code",
      "metadata": {
        "id": "PJs4I-HF4Y3j"
      },
      "source": [
        "sn.countplot(y=df.V0302)  # gráfico barra - frequência da coluna indicada no eixo y\r\n",
        "plt.title(\"sexo\")  # título do gráfico\r\n",
        "\r\n",
        "#plt.ylabel('')  # nome do eixo y\r\n",
        "#plt.xlabel('')  # nome do eixo x\r\n",
        "\r\n",
        "plt.show()  # exibir gráfico"
      ],
      "execution_count": null,
      "outputs": []
    },
    {
      "cell_type": "markdown",
      "metadata": {
        "id": "PB5T7rQx4Wzd"
      },
      "source": [
        "**Gráfico de Colunas**"
      ]
    },
    {
      "cell_type": "code",
      "metadata": {
        "id": "0HHuJIX-5DS6"
      },
      "source": [
        "sn.countplot(x=df.V0302, hue=df.V0302)  # gráfico coluna - frequência da coluna indicada no eixo x - com legenda\r\n",
        "plt.title(\"sexo\")  # título do gráfico\r\n",
        "plt.ylabel('')  # nome do eixo y\r\n",
        "plt.xlabel('')  # nome do eixo x\r\n",
        "\r\n",
        "#plt.legend(loc=\"center\")   # posição da legenda\r\n",
        "\r\n",
        "plt.show()  # exibir gráfico"
      ],
      "execution_count": null,
      "outputs": []
    },
    {
      "cell_type": "code",
      "metadata": {
        "id": "LkuEX76sAMSD"
      },
      "source": [
        "sn.countplot(x=df.V0404, hue=df.V0302)  # gráfico coluna agrupada - frequência da coluna indicada no eixo x - com legenda\r\n",
        "plt.title(\"sexo x características físicas\")  # título do gráfico\r\n",
        "plt.ylabel('')  # nome do eixo y\r\n",
        "plt.xlabel('')  # nome do eixo x\r\n",
        "plt.legend(loc=\"best\")   # posição da legenda\r\n",
        "plt.show()  # exibir gráfico"
      ],
      "execution_count": null,
      "outputs": []
    },
    {
      "cell_type": "code",
      "metadata": {
        "id": "XTay9VbGRsm2"
      },
      "source": [
        "sn.countplot(x=df.V0302, hue=df.V0404)  # gráfico coluna agrupada - frequência da coluna indicada no eixo x - com legenda\r\n",
        "plt.title(\"características físicas x sexo\")  # título do gráfico\r\n",
        "plt.ylabel('')  # nome do eixo y\r\n",
        "plt.xlabel('')  # nome do eixo x\r\n",
        "plt.legend(loc=\"best\")   # posição da legenda\r\n",
        "\r\n",
        "#plt.legend(bbox_to_anchor=(1.3,0.8))  # posição específica da legenda\r\n",
        "\r\n",
        "plt.show()  # exibir gráfico"
      ],
      "execution_count": null,
      "outputs": []
    },
    {
      "cell_type": "markdown",
      "metadata": {
        "id": "rAu7WmzA5DzJ"
      },
      "source": [
        "**Gráfico de Setores**"
      ]
    },
    {
      "cell_type": "code",
      "metadata": {
        "id": "B9cygF5_5KIa"
      },
      "source": [
        "sizes = df.V0404.value_counts()  # tamanho das fatias\r\n",
        "labels = df['V0404'].value_counts().index   # rótulos das fatias\r\n",
        "plt.figure(figsize=(8,8))  # tamanho do gráfico\r\n",
        "\r\n",
        "plt.pie(sizes, labels=labels, explode=(0,0,0.1,0.2,0.3), autopct='%1.3f%%', labeldistance=1, startangle=90)\r\n",
        "# gráfico setores - fatias destacadas na ordem - percentual automático 3 casas decimais\r\n",
        "\r\n",
        "plt.legend(bbox_to_anchor=(1.3,0.8))  # posição específica da legenda\r\n",
        "plt.show()  # exibir gráfico"
      ],
      "execution_count": null,
      "outputs": []
    },
    {
      "cell_type": "code",
      "metadata": {
        "id": "VL6SprC_KnB4"
      },
      "source": [
        "sizes = df['V0404'].value_counts() # tamanho das fatias\r\n",
        "\r\n",
        "sizes.plot(kind='pie', figsize=(8,8), fontsize=12, explode=(0,0,0.1,0.2,0.3), autopct='%1.2f%%', labeldistance=1, startangle=15)\r\n",
        "# gráfico setores/ tamanho gráfico e fonte/ fatias destacadas na ordem/ percentual automático 2 casas decimais\r\n",
        "\r\n",
        "plt.axis(\"equal\")  # escala dos eixos igual\r\n",
        "plt.ylabel('') # nome do eixo y\r\n",
        "plt.legend(bbox_to_anchor=(1.5,0.9)) # posição específica da legenda\r\n",
        "plt.show() # exibir gráfico"
      ],
      "execution_count": null,
      "outputs": []
    },
    {
      "cell_type": "markdown",
      "metadata": {
        "id": "5ixqLoJQZ-_r"
      },
      "source": [
        "**Gráfico de Frequência Absoluta**"
      ]
    },
    {
      "cell_type": "code",
      "metadata": {
        "id": "R6hxbjT6Zy2M"
      },
      "source": [
        "sizes = df.V0404  # coluna analisada\r\n",
        "plt.figure(figsize=(5,5))   # tamanho do gráfico\r\n",
        "\r\n",
        "sn.histplot(sizes, bins=5)  # bins: quantidade de intervalos\r\n",
        "\r\n",
        "plt.ylabel('frequência pessoas')  # nome do eixo y\r\n",
        "plt.xlabel('')  # nome do eixo x\r\n",
        "plt.show()  # exibir gráfico"
      ],
      "execution_count": null,
      "outputs": []
    },
    {
      "cell_type": "markdown",
      "metadata": {
        "id": "Qtb26jIB5Kha"
      },
      "source": [
        "**Gráfico de Frequência Acumulada**"
      ]
    },
    {
      "cell_type": "code",
      "metadata": {
        "id": "zy_yGp9K_hm1"
      },
      "source": [
        "sizes = df.V0404  # coluna analisada \r\n",
        "plt.figure(figsize=(5,5))   # tamanho do gráfico\r\n",
        "\r\n",
        "sn.histplot(sizes, bins=5, cumulative=True)  # quantidade de intervalos/ acumulativo\r\n",
        "\r\n",
        "plt.ylabel('frequência pessoas - acumulada')  # nome do eixo y\r\n",
        "plt.xlabel('')  # nome do eixo x\r\n",
        "plt.show()  # exibir gráfico"
      ],
      "execution_count": null,
      "outputs": []
    },
    {
      "cell_type": "code",
      "metadata": {
        "id": "Bj0rnze-XZjp"
      },
      "source": [
        "sizes = df.V0404.sort_values(ascending=False)  # coluna analisada ordenada\r\n",
        "plt.figure(figsize=(5,5))   # tamanho do gráfico\r\n",
        "\r\n",
        "sn.histplot(sizes, bins=5, cumulative=True)  # quantidade de intervalos/ acumulativo\r\n",
        "\r\n",
        "plt.ylabel('frequência pessoas - acumulada')  # nome do eixo y\r\n",
        "plt.xlabel('')  # nome do eixo x\r\n",
        "plt.show()  # exibir gráfico"
      ],
      "execution_count": null,
      "outputs": []
    },
    {
      "cell_type": "markdown",
      "metadata": {
        "id": "FNofntViA7Hv"
      },
      "source": [
        "> **Gráfico de Frequência Relativa**"
      ]
    },
    {
      "cell_type": "code",
      "metadata": {
        "id": "L-tItQji0WkK"
      },
      "source": [
        "sizes = np.divide(df.V0404.value_counts(), len(df.V0404))  # coluna analisada dividida pelo seu tamanho\r\n",
        "plt.figure(figsize=(5,5))  # tamanho do gráfico\r\n",
        "\r\n",
        "plt.plot(sizes) # plotar dados\r\n",
        "\r\n",
        "plt.ylabel('Freq Relativa')  # nome do eixo y\r\n",
        "plt.xlabel('Caract. Físicas')  # nome do eixo x\r\n",
        "plt.show()  # exibir gráfico"
      ],
      "execution_count": null,
      "outputs": []
    },
    {
      "cell_type": "markdown",
      "metadata": {
        "id": "VatpcqrVNaOk"
      },
      "source": [
        "## **Próximas Aulas...**\r\n",
        "> **Cálculo do número de classes**\r\n",
        "\r\n",
        "> **Gráficos diversos**"
      ]
    }
  ]
}