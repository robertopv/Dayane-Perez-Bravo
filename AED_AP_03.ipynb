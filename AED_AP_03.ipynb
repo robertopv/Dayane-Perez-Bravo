{
  "nbformat": 4,
  "nbformat_minor": 0,
  "metadata": {
    "colab": {
      "name": "AED_AP_03.ipynb",
      "provenance": [],
      "collapsed_sections": [],
      "authorship_tag": "ABX9TyMytCuCgGH58q6n0gM8Ciq4",
      "include_colab_link": true
    },
    "kernelspec": {
      "name": "python3",
      "display_name": "Python 3"
    }
  },
  "cells": [
    {
      "cell_type": "markdown",
      "metadata": {
        "id": "view-in-github",
        "colab_type": "text"
      },
      "source": [
        "<a href=\"https://colab.research.google.com/github/dayanebravo/AED/blob/main/AED_AP_03.ipynb\" target=\"_parent\"><img src=\"https://colab.research.google.com/assets/colab-badge.svg\" alt=\"Open In Colab\"/></a>"
      ]
    },
    {
      "cell_type": "markdown",
      "metadata": {
        "id": "wsGhw2xlbKyy"
      },
      "source": [
        "# **Análise Exploratória de Dados - AED** - **Aula Prática 03**"
      ]
    },
    {
      "cell_type": "markdown",
      "metadata": {
        "id": "Tk3jnILZbuTg"
      },
      "source": [
        "> Importar bibliotecas e dados"
      ]
    },
    {
      "cell_type": "code",
      "metadata": {
        "id": "onywXJDZo6p7"
      },
      "source": [
        "import pandas as pd  # biblioteca com ferramentas para análise de dados/dataframes\r\n",
        "import numpy as np  # biblioteca com operações matemáticas"
      ],
      "execution_count": null,
      "outputs": []
    },
    {
      "cell_type": "code",
      "metadata": {
        "id": "GFUcKMppo94z"
      },
      "source": [
        "df1 = pd.read_csv(\"https://raw.githubusercontent.com/dayanebravo/AED/main/pes_2012.csv\")  # ler dados no formato CSV\r\n",
        "df1.head()  #  exibe as primeiras linhas da tabela"
      ],
      "execution_count": null,
      "outputs": []
    },
    {
      "cell_type": "code",
      "metadata": {
        "id": "9aMO2e3Ao_-R"
      },
      "source": [
        "df1[\"V4718\"] = pd.to_numeric(df1[\"V4718\"],errors=\"coerce\")  # transformar dados da coluna em float e os erros substituir por NaN\r\n",
        "df1[\"V4720\"] = pd.to_numeric(df1[\"V4720\"],errors=\"coerce\")"
      ],
      "execution_count": null,
      "outputs": []
    },
    {
      "cell_type": "code",
      "metadata": {
        "id": "q9FXecw3GJNC"
      },
      "source": [
        "df = df1.dropna()  # criando um NOVO dataframe com as linhas inválidas removidas\r\n",
        "df.head()  #  exibe as primeiras linhas da tabela"
      ],
      "execution_count": null,
      "outputs": []
    },
    {
      "cell_type": "code",
      "metadata": {
        "id": "UHRgcY51pp0Z"
      },
      "source": [
        "import matplotlib.pyplot as plt  # biblioteca básico para gráficos \r\n",
        "import seaborn as sn  # biblioteca auxiliar para gráficos"
      ],
      "execution_count": null,
      "outputs": []
    },
    {
      "cell_type": "code",
      "metadata": {
        "id": "oPHAUOZ8qNI3"
      },
      "source": [
        "sn.set(style=\"ticks\",palette=\"light:m_r\")  # definir estilo de gráfico e cor"
      ],
      "execution_count": null,
      "outputs": []
    },
    {
      "cell_type": "markdown",
      "metadata": {
        "id": "FVha-vx7vVQO"
      },
      "source": [
        "> **Regra para o número de classes**"
      ]
    },
    {
      "cell_type": "markdown",
      "metadata": {
        "id": "lqO6Y2Rpvpw-"
      },
      "source": [
        ">> **Regra do logaritmo:**\r\n",
        ">> ![image.png](data:image/png;base64,iVBORw0KGgoAAAANSUhEUgAAAI8AAAAZCAYAAAAIXH3NAAAD60lEQVRoBe2Xi00rMRBF0wI1pAV6oARqoIV0kA7ogAqogAbSAB2kh6CDdKJ5o/VnTT6gZ0uRF69n5s6d6/GyOc0xGRhkYDNoN80mA6cpnimCYQameIapm4ZTPFMDwwxM8QxTd13Dt7e302az+f59fHxcN9ig96Z4np6ezknw7Nhut+f1h4cHl28yH4/H08vLy2m/398kHkHe399Pz8/P55zJvxX/8/Pze0/kCh+Hw6ELtwL6s+KhUJwACODZYWKQAUm3GhQMsYKpVbwSJg7BGtvX19d/4ileMMBDaYAT3uQHEbhWsonr7CfGnxUPyeRCQd7j42OVuEjCpZ53u905Zsa0JsZa8SA0RBCHha2JcElcdvLoq/RsjD8rnpwALRfh9LbeEjE/Xb+leJaw2o3sKkt78hqHDhFy5faMzL02rFMDOOC31P3BRyz3xFk/zGDiUOqHNbopHZIf13VpNL95OFk4IQjPnBye7z1Itnbqa/jWdp7oi0NDXArT2xHgiyJQcArVy9+SeFxDHAzEi1/w6JdY8OOVqg2x82CN9+Skjb7xC1el0RSPbRbHIwUTuPa1uQY0JzCCRR+j4olc9H74xvwp8BrBa8vsIG7myX2KhT3EigMbxFAa4KJJRHzY5FjRvikeiuRpAVAGFZ3d8rlXPJ6ommh9F4mr5UKxKAR2vdc3XUEsFLdnKIoonlLecb0knpoQsPGGERt/L3Ur31fFI3jvPZQNSP/WyT3mSNba+JDYK5SSb64LMPQKQT9872DXIzr5Xyse6+T1g33uKuJxzkIxv1qtq+LxpHiXMhNkDWESAGGtX+1kmKQzvkYFcAnxgAMMazBjI6dREOaUZ7mLe0t553U7Cest4SgUrz1wKEBrn7Hxd1U8EJPvSZMn4D1HJmsNlrXiIecsEkgFQ+0/J97HwoORa4D1Hv6WxEM9ck3oYvi0SzDnPTV+2I997Ibk1fJRFI+AsgMTGj31tSR631m4XNBe+xHxQK7XAPEhlxMdRYDfiAkb+HMP3OXrwcOYRUYunn5FwZqFFgu+iRHrhM/4d4sXBA2uOMgDH+RaummK4iFxf1EoOHXdBGLQaz5DZowPDj7gY8F64rM/5tSyoUAQTCxzh9B4UvGB34gFvOzTBvscl795n8Xj4eUdhY2x8CsW3iFkiuyItsZmBlvc5/6Mm3WFy7sYWxvmonjipvncZoCiUMjYJdpW19mBmPjFwQFQaHH9J89TPD9hL9jSmTit9x52ndzJwEUXKV1BI7ineEZY+8U2dkBE4rcWa3xicHVdsjNO8fxiIYxCo+vEby2/dy4pHLBN8YxWaNpN8UwNjDMwO884d/+95RdfO+U2m8PAdwAAAABJRU5ErkJggg==)"
      ]
    },
    {
      "cell_type": "code",
      "metadata": {
        "id": "9R7MCXGfvVzu"
      },
      "source": [
        "sizes = df.V8005  # coluna analisada \r\n",
        "plt.figure(figsize=(8,8))  # tamanho do gráfico\r\n",
        "\r\n",
        "# cálculo da quantidade de classes \r\n",
        "k = int(1+3.3*np.log(len(sizes))) # fórmula\r\n",
        "print(k)\r\n",
        "\r\n",
        "sn.histplot(sizes, bins=k)  # quantidade de classes/intervalos - largura calculada automaticamente\r\n",
        "plt.ylabel('qtde pessoas')  # nome do eixo y\r\n",
        "plt.xlabel('idade')  # nome do eixo x\r\n",
        "plt.show()  # exibir gráfico"
      ],
      "execution_count": null,
      "outputs": []
    },
    {
      "cell_type": "markdown",
      "metadata": {
        "id": "6hIyq6UOy1ed"
      },
      "source": [
        ">> **Regra da Potência:** \r\n",
        ">> ![image.png](data:image/png;base64,iVBORw0KGgoAAAANSUhEUgAAAEUAAAAaCAYAAADhVZELAAACBklEQVRYCe2Wfc2DMBCHsTANs4CHSUDDLMzBHOBgClCAAQzgAA998/Dml1xYgSsff5D1kqZdKde75z5YEbJ8ESi+dvJGyFAiSXA4lLZtw/v9DsxXlcOhNE0TbrdbqOv6qkzOKR+gdF2XoYhA3/ehKP4TkDWlxLiSuMtnGIbw+XzC4/EYncbxsiy/eofOAAEoZM39fh/XVwHjhlJV1QhDvQKHcRanASZ5Pp8jOM1AWhOaMoDRbXWtvXfWczcUMgRHrVAWZIz90uAcAJlTyoYehH4g874HprXlyLUbSuzSKRSiDCQcxCkyCUmNPu8CBkCAstBjdmiPc8pe1tyrcmf2yi4oiqycxhAcQdRwX69XYGwRdFBSOMpAz9xXjbPYo8Bwlt/s8zdhmtFL9myGgnFcZNMcKPY3xqgHLRnheYZe7vNEnHNAtME6HQqX0TOIxJmSkimyQ8Gy/YzAAEWQdHZu3pQpZwLBcLKCjEjtKTgZA0DwsNkryVC4wJPCXgN0jtJDNyBospTeFkEHpWNF/cjuLa2ToBAFiNs0xHibqkuXzT0DCHrJEKt77vzSPnqAKqEEKZ0UyG4oUj7t/hiwF4oc2DsDFAC2uQNcUIDOWBM3FNIS5bGxF4oMj+me7i2VrvQwSwBF9lCWXjvdUHTJL8wZSiTKGUqGEiEQ2cqZkqFECES2cqZEoPwBHrKLfM5Rlf0AAAAASUVORK5CYII=)\r\n"
      ]
    },
    {
      "cell_type": "code",
      "metadata": {
        "id": "DTCqm39Wy1ee"
      },
      "source": [
        "sizes = df.V8005  # coluna analisada \r\n",
        "plt.figure(figsize=(8,8))  # tamanho do gráfico\r\n",
        "\r\n",
        "# cálculo da quantidade de classes \r\n",
        "import math  # biblioteca para calcular log na base i\r\n",
        "# lembrando que 2^k=n é o mesmo que log_2(n)=k\r\n",
        "c = math.log(len(sizes),2) # fórmula do log na base 2\r\n",
        "k = int(c+1) # k precisa ser inteiro\r\n",
        "print(k)\r\n",
        "    \r\n",
        "sn.histplot(sizes, bins=k)  # quantidade de classes/intervalos - largura calculada automaticamente\r\n",
        "plt.ylabel('qtde pessoas')  # nome do eixo y\r\n",
        "plt.xlabel('idade')  # nome do eixo x\r\n",
        "plt.show()  # exibir gráfico\r\n"
      ],
      "execution_count": null,
      "outputs": []
    },
    {
      "cell_type": "markdown",
      "metadata": {
        "id": "V79nCGyWfF4m"
      },
      "source": [
        "> **Histograma**"
      ]
    },
    {
      "cell_type": "code",
      "metadata": {
        "id": "hC0X2N0XfKUI"
      },
      "source": [
        "sizes = df.V8005  # coluna analisada \r\n",
        "\r\n",
        "sn.histplot(sizes, bins=15, cumulative=False)  # quantidade de intervalos - não cumulativo\r\n",
        "\r\n",
        "plt.ylabel('qtde pessoas')  # nome do eixo y\r\n",
        "plt.xlabel('idade')  # nome do eixo x\r\n",
        "plt.show()  # exibir gráfico"
      ],
      "execution_count": null,
      "outputs": []
    },
    {
      "cell_type": "markdown",
      "metadata": {
        "id": "IgrLFJbZfty0"
      },
      "source": [
        "> **Distribuição**"
      ]
    },
    {
      "cell_type": "code",
      "metadata": {
        "id": "CH7yNzR_flQG"
      },
      "source": [
        "sizes = df.V8005  # coluna analisada \r\n",
        "\r\n",
        "sn.displot(sizes, bins=15, cumulative=False)  # quantidade de intervalos - não cumulativo\r\n",
        "#sn.distplot(sizes)\r\n",
        "\r\n",
        "plt.ylabel('qtde pessoas')  # nome do eixo y\r\n",
        "plt.xlabel('idade')  # nome do eixo x\r\n",
        "\r\n",
        "#plt.show()  # exibir gráfico"
      ],
      "execution_count": null,
      "outputs": []
    },
    {
      "cell_type": "markdown",
      "metadata": {
        "id": "PNDQ23A8nGOe"
      },
      "source": [
        "> **Densidade**"
      ]
    },
    {
      "cell_type": "code",
      "metadata": {
        "id": "vem3B50Ah3WT"
      },
      "source": [
        "sizes = df.V8005  # coluna analisada \r\n",
        "\r\n",
        "sn.kdeplot(data=sizes, fill=True)  # tipo do gráfico com preenchimento de cor\r\n",
        "\r\n",
        "plt.ylabel('freq. pessoas')  # nome do eixo y\r\n",
        "plt.xlabel('idade')  # nome do eixo x\r\n",
        "plt.show()  # exibir gráfico"
      ],
      "execution_count": null,
      "outputs": []
    },
    {
      "cell_type": "markdown",
      "metadata": {
        "id": "Xo2cAdGLmyQP"
      },
      "source": [
        "> **Polígono de Frequência**"
      ]
    },
    {
      "cell_type": "code",
      "metadata": {
        "id": "DWuGqUhOfQv2"
      },
      "source": [
        "sizes = df.V0404.value_counts()  # coluna analisada \r\n",
        "\r\n",
        "sn.relplot(data=sizes, kind=\"line\", height=5)  # tipo do gráfico e altura\r\n",
        "\r\n",
        "plt.ylabel('qtde pessoas')  # nome do eixo y\r\n",
        "plt.xlabel('caract. física')  # nome do eixo x\r\n",
        "plt.show()  # exibir gráfico"
      ],
      "execution_count": null,
      "outputs": []
    },
    {
      "cell_type": "markdown",
      "metadata": {
        "id": "QdMt7xJPq7q-"
      },
      "source": [
        ">**Gráfico de dispersão**"
      ]
    },
    {
      "cell_type": "code",
      "metadata": {
        "id": "LMWp9rXnqw-g"
      },
      "source": [
        "plt.figure(figsize=(8,8))  # tamanho do gráfico\r\n",
        "\r\n",
        "#sn.relplot(x=df.V8005, y=df.V4720, kind=\"scatter\")  # tipo do gráfico\r\n",
        "#sn.scatterplot(x=df.V8005, y=df.V4720)  # gráfico de dispersão (eixo x, eixo y)\r\n",
        "\r\n",
        "plt.ylabel('renda')  # nome do eixo y\r\n",
        "plt.xlabel('idade')  # nome do eixo x\r\n",
        "plt.show()  # exibir gráfico"
      ],
      "execution_count": null,
      "outputs": []
    },
    {
      "cell_type": "markdown",
      "metadata": {
        "id": "ky5k_pZyOAF8"
      },
      "source": [
        "# **Ordenação de dados**"
      ]
    },
    {
      "cell_type": "code",
      "metadata": {
        "id": "5VDCm9uRODVz"
      },
      "source": [
        "df.V0404.sort_values()  # ordem alfabética"
      ],
      "execution_count": null,
      "outputs": []
    },
    {
      "cell_type": "code",
      "metadata": {
        "id": "fy_K4KncOJIS"
      },
      "source": [
        "df.V8005.sort_values()  # ordem numérica crescente"
      ],
      "execution_count": null,
      "outputs": []
    },
    {
      "cell_type": "code",
      "metadata": {
        "id": "Mly11cTSaMGW"
      },
      "source": [
        "df.V8005.sort_values(ascending=False)  # ordem numérica decrescente"
      ],
      "execution_count": null,
      "outputs": []
    },
    {
      "cell_type": "markdown",
      "metadata": {
        "id": "2OQieUgrsCdl"
      },
      "source": [
        "#**Próximas Aulas...**"
      ]
    },
    {
      "cell_type": "code",
      "metadata": {
        "id": "ph-RaT6asElO"
      },
      "source": [
        "df.describe()"
      ],
      "execution_count": null,
      "outputs": []
    }
  ]
}