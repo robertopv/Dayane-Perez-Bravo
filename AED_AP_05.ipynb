{
  "nbformat": 4,
  "nbformat_minor": 0,
  "metadata": {
    "colab": {
      "name": "AED_AP_05.ipynb",
      "provenance": [],
      "collapsed_sections": [],
      "authorship_tag": "ABX9TyPnYwAzgC3gA3R1qbQHZfrx",
      "include_colab_link": true
    },
    "kernelspec": {
      "name": "python3",
      "display_name": "Python 3"
    }
  },
  "cells": [
    {
      "cell_type": "markdown",
      "metadata": {
        "id": "view-in-github",
        "colab_type": "text"
      },
      "source": [
        "<a href=\"https://colab.research.google.com/github/dayanebravo/AED/blob/main/AED_AP_05.ipynb\" target=\"_parent\"><img src=\"https://colab.research.google.com/assets/colab-badge.svg\" alt=\"Open In Colab\"/></a>"
      ]
    },
    {
      "cell_type": "markdown",
      "metadata": {
        "id": "wsGhw2xlbKyy"
      },
      "source": [
        "# **Análise Exploratória de Dados - AED** - **Aula Prática 05**"
      ]
    },
    {
      "cell_type": "markdown",
      "metadata": {
        "id": "Tk3jnILZbuTg"
      },
      "source": [
        "> Importar bibliotecas e dados"
      ]
    },
    {
      "cell_type": "code",
      "metadata": {
        "id": "onywXJDZo6p7"
      },
      "source": [
        "import pandas as pd  # biblioteca com ferramentas para análise de dados/dataframes\r\n",
        "import numpy as np  # biblioteca com operações matemáticas"
      ],
      "execution_count": null,
      "outputs": []
    },
    {
      "cell_type": "code",
      "metadata": {
        "id": "o-E-OZ_te5PN"
      },
      "source": [
        "df1 = pd.read_csv(\"https://raw.githubusercontent.com/dayanebravo/AED/main/pes_2012.csv\")  # ler dados no formato CSV\r\n",
        "df1.head()  #  exibe as primeiras linhas da tabela"
      ],
      "execution_count": null,
      "outputs": []
    },
    {
      "cell_type": "code",
      "metadata": {
        "id": "9aMO2e3Ao_-R"
      },
      "source": [
        "df1[\"V4718\"] = pd.to_numeric(df1[\"V4718\"],errors=\"coerce\")  # transformar dados da coluna em float e os erros substituir por NaN\r\n",
        "df1[\"V4720\"] = pd.to_numeric(df1[\"V4720\"],errors=\"coerce\")"
      ],
      "execution_count": null,
      "outputs": []
    },
    {
      "cell_type": "code",
      "metadata": {
        "id": "Efv4LztffBSr"
      },
      "source": [
        "df = df1.dropna()  # criando um NOVO dataframe com as linhas inválidas removidas\r\n",
        "df.head()  #  exibe as primeiras linhas da tabela"
      ],
      "execution_count": null,
      "outputs": []
    },
    {
      "cell_type": "markdown",
      "metadata": {
        "id": "CGcztiJc9QmJ"
      },
      "source": [
        "# **Medidas de Tendência Central: Dados Descritivos**"
      ]
    },
    {
      "cell_type": "markdown",
      "metadata": {
        "id": "ZEwdCtxX8EsJ"
      },
      "source": [
        "> **Mediana, média e moda**"
      ]
    },
    {
      "cell_type": "code",
      "metadata": {
        "id": "9Xi64TcQJe_w"
      },
      "source": [
        "df.UF.mode()   # moda"
      ],
      "execution_count": null,
      "outputs": []
    },
    {
      "cell_type": "code",
      "metadata": {
        "id": "ARi3giuNSvS-"
      },
      "source": [
        "#  np.mean(df.V0302)  #  NÃO FUNCIONA!!!\r\n",
        "k=df.V0302.value_counts()\r\n",
        "np.mean(k)  # sexo (V0302) - média ERRADA!!!"
      ],
      "execution_count": null,
      "outputs": []
    },
    {
      "cell_type": "code",
      "metadata": {
        "id": "3CIDnv3xFxpX"
      },
      "source": [
        "df.groupby('V0302').agg({\"V4720\": \"mean\"})  # agrupa dados por sexo (V0302) agregando pela renda média (V4720)"
      ],
      "execution_count": null,
      "outputs": []
    },
    {
      "cell_type": "code",
      "metadata": {
        "id": "RVVoaHLBMY4X"
      },
      "source": [
        "df.groupby('V0302').agg({\"V4720\": \"median\"})  # agrupa dados por sexo (V0302) agregando pela mediana das rendas (V4720)"
      ],
      "execution_count": null,
      "outputs": []
    },
    {
      "cell_type": "code",
      "metadata": {
        "id": "cB8mKGE1Yrq_"
      },
      "source": [
        "tabela = df.groupby(['UF','V0302']).agg({'V8005': np.mean})  # agrupa: sexo / UF / idade média\r\n",
        "#tabela.reset_index(inplace=True)  # preenche todas as linhas da coluna\r\n",
        "tabela"
      ],
      "execution_count": null,
      "outputs": []
    },
    {
      "cell_type": "markdown",
      "metadata": {
        "id": "Q2U4UyXK7Jmn"
      },
      "source": [
        "## **Quartil**"
      ]
    },
    {
      "cell_type": "markdown",
      "metadata": {
        "id": "hfoEuF-4mz4-"
      },
      "source": [
        "![image.png](data:image/png;base64,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)"
      ]
    },
    {
      "cell_type": "code",
      "metadata": {
        "id": "E6SzbA177QFf"
      },
      "source": [
        "dfo = sorted(df.V8005)  # ordena a coluna analisada \r\n",
        "n=len(dfo)  # tamanho da coluna\r\n",
        "\r\n",
        "Q1=int((n+3)/4)  # fórmula posição primeiro quartil\r\n",
        "Q3=int((3*n+1)/4)  # fórmula posição terceiro quartil\r\n",
        "\r\n",
        "print(\"A posição do primeiro quartil é: \", Q1, \"e do terceiro quartil é: \" ,Q3)  # aqui encontramos a posição\r\n",
        "print(\"O valor do primeiro quartil é: \", dfo[Q1], \"e do terceiro quartil é: \", dfo[Q3])  # aqui encontramos o valor associado àquela posição"
      ],
      "execution_count": null,
      "outputs": []
    },
    {
      "cell_type": "code",
      "metadata": {
        "id": "orURWvVInkf3"
      },
      "source": [
        "print(\"O valor de Q1 é: \", np.quantile(df.V8005, .25))   # usa a função da np para encontrar o valor do quartil\r\n",
        "print(\"O valor de Q3 é: : \", np.quantile(df.V8005, .75))  # usa a função da np para encontrar o valor do quartil"
      ],
      "execution_count": null,
      "outputs": []
    },
    {
      "cell_type": "markdown",
      "metadata": {
        "id": "HFezVedJ7dtJ"
      },
      "source": [
        ">**Intervalo Interquartil**"
      ]
    },
    {
      "cell_type": "code",
      "metadata": {
        "id": "FGHeQRyX7haH"
      },
      "source": [
        "k = Q3-Q1  # fórmula\r\n",
        "print(\"A posição do primeiro quartil é: \", Q1, \"e do terceiro quartil é: \" ,Q3, \r\n",
        "      \"\\n Portanto o intervalo interquartil é: \", k)"
      ],
      "execution_count": null,
      "outputs": []
    },
    {
      "cell_type": "markdown",
      "metadata": {
        "id": "KkbYZSm67MxH"
      },
      "source": [
        "## **Percentil**\r\n",
        ">![image.png](data:image/png;base64,iVBORw0KGgoAAAANSUhEUgAAAJAAAAAzCAYAAAB4zoH4AAAFVUlEQVR4Ae2bjU30MAyGbwVmYAV2YARmYAU2YAM2YAImYAEWYAN26KfnpBdZJk2dn971PjlS1V6bOM7rp05SxGnJkgoMKHAaaJtNU4ElAUoIhhRIgIbky8YJUDIwpEACNCRfNk6AkoEhBRKgIfmO3fjz83P5+fn5dfLr62vhmFkSoJlqHsQWkDw+Pi739/fnA4ien5/P906n0/Ly8jLN0wRompTHMfT29nbOPK+vr8vd3d0ZGGUeQAKiWWWepVkepZ1pCgAQsHx8fPza1L3fG4MXCdCggEduzjTGYUsCZNXI66oCTF9MZ7Y8PT2d10X23sh1ZqAR9Q7cljUP0xc7MRUW07mIlhp5rirw/v7+ByAtqr+/v6ttWx5mBmpR64bqslUn27DrIgtp7QNYM0sCNFPNA9l6eHg4b98Bh4U0IGkrP9PNMECaU2cTPGswEmqWvT3t4CuL2T0CKr/JPpeIVRggzal7DlqDbzmzMNTb1tLuEnX1BRhgfGFaYZe0R5Cx7RfQvv9Zv8MAzepwth3S88xP896/3sxGOwAhkCWA6EdZffZLydadfgF473LTAPH2EqQ9heoBCKCVWWoAEVzq+o99o0EHIK17Rm1ttQ8BhAgce77pW46WnjN1sTi0BZjwE39ZZ1AEGrDZz/q23dp1D0DW1hZAbKmpMzsLWR/2vA4BhOgMUm/Vng5FbUt4DwTw+G2rvsYCXOvbvjdAjJe/mq9Nc1E9rlUvBJAWZTM+QAFi9KiJIp84lwoBIePYwADPEQHq8as05mvcCwGkYFzDwbU+tVBce8705ddH/K5Nw4IyAngURGxZiEv+RgGK+DW7Tslfey8EEMGICmaN73lNUBBrrXhY1qa8tfa6Tz8jY58JkHw60nk9AsZLPxWYR82XLW9IzXgtAwkWu2bjmr5bd2wJUC0Ky/Y/FupbhV9r8JsgEhAChtB+QVvveuypphvvF1a16Lc7G3ZrLKJbSwJUV2wzA9lAAQxvMgfTGrsH7nGtrbMNWr3rsaelLCOL+ELWtIVpCIAAHn+jZQQg+iLrbU2BPsNLc/o+etkECBEAxQ6S4FG4b7/DIFYpI+wlQuk7EH0RMB80TWHcb4G8ByD6oh87XaOV9wlfleGtTy0AER+OWsHeVlywQR3rR82mnm0CpIr+rAwg5zkjWKsD3m7LbwIF2PKhpe1R6vIClsCK+Ef2Z/xrcBALwOVFUxJAM1+kI35gj7rROHYDpLdMzvCm0vGlC4Oubc0v7U9LfwSp56UDGKDgWMv6vFTAYGcIpm7uaQbBV2xhQ2DRTtBFxtINkJwBHJzEsSi1EceidRgwQt7CesGOicChmQJnn21dM1bGreBz9gW7gGFh0eaCzKVC7PyL37Ke7QaIweMIg+HMgK5Z8KN3Kri03/jKCzj6wtUAwj4A+cI9nqkQR6+b7FrQVN+f//bgaxR+K/X2vD0Fc3mrUwEFupSBgILM7AsAWWD47ZcAsgvoW6ULIDrAeAK0Je++zxXoNYAsKPKkBJAHRXb9fdmw5y6ArIG8vp4CCnQCdL0Y3HTPWwCRbXwpZSCfqWQ3M5BX7z/7rUCXMhC7K2CxmxuuuWfBKG3ZtVsr2fUS/kXU18jfh1WgBpC28Xadqnt29yfQ7HZfn2UiA0+AIiodsA7ZhExCRmFbbjON3GUXxjadjMLBtd9xAQ73qQuQbN2xSf1ISYAiKh2sDhCwbvGHh0OQqZ7NRnZIQETWoR4wRqYutU+ApESeuxRIgLpky0ZSIAGSEnnuUiAB6pItG0mBBEhK5LlLgQSoS7ZsJAUSICmR5y4FEqAu2bKRFEiApESeuxT4B5M7FeZLxGBkAAAAAElFTkSuQmCC)"
      ]
    },
    {
      "cell_type": "code",
      "metadata": {
        "id": "bBLAUSBl7Qfw"
      },
      "source": [
        "n=len(dfo)  # tamanho da coluna\r\n",
        "p=int(input(\"Qual percentil quer calcular? \"))  # entrada informada pelo usuário\r\n",
        "\r\n",
        "ip=int((n+1)*p/100)  # fórmula posição percentil\r\n",
        "\r\n",
        "print(\"A posição do percentil é: \", ip, \"e o valor do percentil é: \" ,dfo[ip])  # dada a posição, informa o dado referente"
      ],
      "execution_count": null,
      "outputs": []
    },
    {
      "cell_type": "code",
      "metadata": {
        "id": "jQmU12qy5C00"
      },
      "source": [
        "p=int(input(\"Qual percentil quer calcular? \"))  # entrada informada pelo usuário\r\n",
        "print('o valor do percentil é: ', np.percentile(df.V8005, p))  # usa a função da np para encontrar o valor do percentil "
      ],
      "execution_count": null,
      "outputs": []
    },
    {
      "cell_type": "markdown",
      "metadata": {
        "id": "L3gsQWL57S9e"
      },
      "source": [
        "## **Medidas de dispersão**\r\n",
        "> **Amplitude**"
      ]
    },
    {
      "cell_type": "code",
      "metadata": {
        "id": "qDlwproW7dYe"
      },
      "source": [
        "k = df['V8005'].max()-df['V8005'].min()  # fórmula\r\n",
        "print(\"A maior idade é: \", df['V8005'].max(), \"e a menor: \", df['V8005'].min(), \r\n",
        "      \"\\n Portanto a amplitude é: \", k)"
      ],
      "execution_count": null,
      "outputs": []
    },
    {
      "cell_type": "markdown",
      "metadata": {
        "id": "JTUMN72M7h4e"
      },
      "source": [
        "> **Desvio Médio Absoluto**\r\n",
        ">>![image.png](data:image/png;base64,iVBORw0KGgoAAAANSUhEUgAAAIMAAABFCAYAAABpLFXPAAAGIklEQVR4Ae2bjVHrOhBG0wI10AI9UAI10AId0AEdUAEV0AAN0AE95M7hvS93I+S11pG5jrWa8dhY8mr326OfBOdwzJIK/K/AIZVIBaRAwiAl8nxMGBKCkwIJw0mKvEgYkoGTAgnDSYq8WAWGz8/P4/Pz8/Ht7e2k8Ovr6/c96rJsU4EzGD4+Po6Hw2HR8f7+/h0hSb+/v/8+sPX19XV8eHj4BuHm5uZ4e3u7mhL0R99Z/ioQ0eQMBkw8PT2dYHh5eflrtbgiyY+Pj6e2gkFnZgYcoQ1tKWpfmOr2ZyTwbp1u3FBEkx8wkDhGMEY4K5FTMTPSaSsI1E6Jt8sCo/bu7k5Nup8jgXfv/JcMoiFxeod1JaLJDxgwxFSvzpjivcLsQdsSBiCxzwIV7Zh51iqRwNfyYWt2I5pUYSAgS2CZaBuw9hm2DbMBTrBUqLCZ5J7dVKqu1zkSeK8+t24noskkDEooxhjlc8uFFUUziwVEewjsAFDEnrXtXUcC9+zsqS6iySQMCKIEYtCO8jmxtF+w7WSLM7OO3UvYdpdce4HTH0sUfZdLFWDiM3UW4Et86f0sfslHBpstDC6WZPwvB5mnibXBtQsDhrVBxCidthScLR3GFvuL8n6LvdY2U4EDAnGwRCEa7eQHfrGp5R7HGpC2+j/VDr/xESCUD/lJTrThp64sU5qU7fjbhYEGOCChIG/LxQtcIwbxaKfNLaMNMRF8q7MCmst/bdg5C2SBUhusniZlLmdh4AGNJgzjxFZLa+Akn1HE7MB1TcStxiiYgZgDEARKzedWTXi2CQamJE1FW54dWgMX3ADhgcBsgU3OcwU7aLPk8Hyo9UsuOOZA+E5w4FvZJhgwCoUIE9lI4izHb5VWGOxm1vNN7bQ+e20ZnSwzSw5vZNf6BDhibVnWWjWhnyYYNDVFE4sjQNSjIJg+iUzZawkcO8RB2/JTxZTdLd0nF5qlW2asFk0U3ywMEg8HWkaIDPc8s0+RAN4yNRe4YgGCubY9/e9lSyDI/5ZZOhLnLAzqWB/FegXWaoeAOZTIKAwISAx6XrObplrul4XpFxE5WgQvn+/5N7pzWBCwj2+KxeuvGwzaQOljmNeprZPQONKzYDcKgz4xsFlkdlHyS8hJup35FHvLutwzxtIWy6x8t7FrqcNnYiKeWukCA50gHo5IwFpn3KPDcgThrHV+6tnI/SUw4Bf+EQujS0XxcR9fS//1eX4udtlb60zM+I+P1hfBSn6om9o/dIFBTlgBawEjag0GRC5ptdMvz0wdU6NxCQz4hz0rpOLw6pgNEflfF/Sf0sOrk98Xw6DRVI4WdWDPGkGWTJzECXvPPrP0egkMS/uqwbzU1r987iIYlEiEnysQi2h0aOkVILXROGfTq/8tGKRBb5i92NaqWwwDyWMNwkD0sDBMTbG0abFrbVmRfgsGIMBP/NBu3vpxTdfE0TKwielsu68ddkvCyjY2gay1OABc0U8iU0IzWpmFOFjrayUSeO153cO+dvAtS6We2+I5oskZDL2C0Z4DIEjiJcWbTSyAl/SRz/6nwCowpLjXqUDCcJ15W8XrhGEVWa/TaMJwnXlbxeuEYRVZr9PoGQzlx8X8O/59y9Y18zBNGBZ8wbb1hHv+NcPgNcy6/StwNjPsP9yM0FMgYfDUGawuYRgs4V64CYOnzmB1CcNgCffCTRg8dQarSxgGS7gXbsLgqTNY3VAw8KINL8SU72bq/mC5/xHuEDAAgN6f5KtavQIPBLyWRx33W34j8kPBHd0YAgZew9Prd0o8f3OtWUK/MufN7lHLEDDY5OpFVwsC9Xpv89pfgLWxRq+HgoFZQP/RK1+m1YxR3o8Kes3th4JBv4cg8WXRj4G0bJT1I/w9FAz6XUi5L2D/YDeWIyS+FuNQMGgp0GZSgmi/UP5QWPWjnIeCQfuFMrmCZOT9ApoMAwOJBobafkG/L9V+QecSmr3/PQwMWgpqHx35EgpQ+JEt9aN++TQUDMwKtaVAX0BRDxCjlmFgGDXBkbgThohaO2+bMOw8wZHwEoaIWjtvmzDsPMGR8BKGiFo7b5sw7DzBkfAShohaO2+bMOw8wZHwEoaIWjtv+wfPY54+SQIwGwAAAABJRU5ErkJggg==)"
      ]
    },
    {
      "cell_type": "code",
      "metadata": {
        "id": "QFkvH9H-ZCt8"
      },
      "source": [
        "def somatorio(x): # criar uma função que precisa de uma entrada x\r\n",
        "    if x==1:\r\n",
        "        return 1  # para x=1 retorna a saída e encerra a função\r\n",
        "    else:  # caso x diferente de 1\r\n",
        "        return abs(x-k) + somatorio(x-1) # retorna o termo subtraído da média em valor absoluto e soma ao seu antecessor\r\n",
        "\r\n",
        "x = int(input(\"Calcular o somatório de 1 até: \"))  # construir a entrada x\r\n",
        "k = int(input(\"O valor médio dos dados é: \"))  # informar a média\r\n",
        "print(\"Resultado do desvio absoluto da média: \", somatorio(x)/x )  # print do desvio médio absoluto"
      ],
      "execution_count": null,
      "outputs": []
    },
    {
      "cell_type": "code",
      "metadata": {
        "id": "Jc7r4OTV7p0m"
      },
      "source": [
        "x = df.V8005  # construir a entrada x\r\n",
        "k = df.V8005.mean()  # calcular a média\r\n",
        "n = len(df.V8005)  # tamanho da entrada\r\n",
        "\r\n",
        "def dm(x): # criar uma função que precisa de uma entrada x\r\n",
        "  aux = np.array(abs(x-k))  # auxiliar que monta um vetor com a entrada subtraída da média em valor absoluto\r\n",
        "  return aux.sum()/n  # saída da função: soma dos termos do vetor aux dividida por n\r\n",
        "\r\n",
        "print(\"Resultado do desvio absoluto da média: \", dm(x) )  # print do desvio médio absoluto"
      ],
      "execution_count": null,
      "outputs": []
    },
    {
      "cell_type": "markdown",
      "metadata": {
        "id": "I6X0hmGR7qN2"
      },
      "source": [
        "## **Variância e Desvio Padrão**"
      ]
    },
    {
      "cell_type": "markdown",
      "metadata": {
        "id": "DSW1jMh271uQ"
      },
      "source": [
        "> **Variância**\r\n",
        ">> ![image.png](data:image/png;base64,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)"
      ]
    },
    {
      "cell_type": "code",
      "metadata": {
        "id": "VyP5WJAhe1iW"
      },
      "source": [
        "x = df.V8005  # construir a entrada x\r\n",
        "k = df.V8005.mean()  # calcular a média\r\n",
        "n = len(df.V8005)  # tamanho da entrada\r\n",
        "\r\n",
        "def dmv(x): # criar uma função que precisa de uma entrada x\r\n",
        "  aux = np.array((x-k)**2)  # auxiliar que monta um vetor com a entrada subtraída da média elevada ao quadrado\r\n",
        "  return aux.sum()/(n-1)  # saída da função: soma dos termos do vetor aux dividida por (n-1)\r\n",
        "\r\n",
        "print(\"Resultado da variância: \", dmv(x) )  # informa o resultado da variância"
      ],
      "execution_count": null,
      "outputs": []
    },
    {
      "cell_type": "code",
      "metadata": {
        "id": "BLvriZks76Qu"
      },
      "source": [
        "df.var()"
      ],
      "execution_count": null,
      "outputs": []
    },
    {
      "cell_type": "markdown",
      "metadata": {
        "id": "8ujD0DU-76uu"
      },
      "source": [
        "> **Desvio padrão**\r\n",
        ">> ![image.png](data:image/png;base64,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)"
      ]
    },
    {
      "cell_type": "code",
      "metadata": {
        "id": "5Llpr8Pu4c2u"
      },
      "source": [
        "x = df.V8005  # construir a entrada x\r\n",
        "k = df.V8005.mean()  # calcular a média\r\n",
        "n = len(df.V8005)  # tamanho da entrada\r\n",
        "\r\n",
        "def dmv(x): # criar uma função que precisa de uma entrada x\r\n",
        "  aux = np.array((x-k)**2)  # auxiliar que monta um vetor com a entrada subtraída da média elevada ao quadrado\r\n",
        "  return aux.sum()/(n-1)  # saída da função: soma dos termos do vetor aux dividida por (n-1)\r\n",
        "\r\n",
        "print(\"Resultado do desvio padrão: \", np.sqrt(dmv(x)) )  # informa o resultado do desvio padrão"
      ],
      "execution_count": null,
      "outputs": []
    },
    {
      "cell_type": "code",
      "metadata": {
        "id": "YCWEDZ6h79dl"
      },
      "source": [
        "df.std()"
      ],
      "execution_count": null,
      "outputs": []
    },
    {
      "cell_type": "code",
      "metadata": {
        "id": "YoxrhpiuqMZ9"
      },
      "source": [
        "df.describe()"
      ],
      "execution_count": null,
      "outputs": []
    },
    {
      "cell_type": "markdown",
      "metadata": {
        "id": "XNFHWmlq5Lno"
      },
      "source": [
        "# **Próxima aula...**\r\n",
        "> **Coeficientes de variação**\r\n",
        "\r\n",
        "> **Gráficos diversos**"
      ]
    },
    {
      "cell_type": "code",
      "metadata": {
        "id": "QEqZs7jW5b7E"
      },
      "source": [
        ""
      ],
      "execution_count": null,
      "outputs": []
    }
  ]
}